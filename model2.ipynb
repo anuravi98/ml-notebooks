{
  "nbformat": 4,
  "nbformat_minor": 0,
  "metadata": {
    "colab": {
      "name": "model2.ipynb",
      "version": "0.3.2",
      "provenance": []
    },
    "kernelspec": {
      "name": "python3",
      "display_name": "Python 3"
    },
    "accelerator": "GPU"
  },
  "cells": [
    {
      "cell_type": "code",
      "metadata": {
        "id": "5WzHCggFbtvv",
        "colab_type": "code",
        "colab": {}
      },
      "source": [
        "from tensorflow.examples.tutorials.mnist import input_data\n",
        "mnist = input_data.read_data_sets(\"MNIST_data/\", one_hot=True)"
      ],
      "execution_count": 0,
      "outputs": []
    },
    {
      "cell_type": "code",
      "metadata": {
        "id": "SRfd80KtyVJw",
        "colab_type": "code",
        "colab": {}
      },
      "source": [
        "import tensorflow as tf\n",
        "learning_rate = 0.1\n",
        "epochs = 20\n",
        "batch_size = 100\n",
        "x = tf.placeholder(tf.float32, [None, 784])\n",
        "y = tf.placeholder(tf.float32, [None, 10])"
      ],
      "execution_count": 0,
      "outputs": []
    },
    {
      "cell_type": "code",
      "metadata": {
        "id": "SDqnL6Y4y8MA",
        "colab_type": "code",
        "colab": {}
      },
      "source": [
        "W1 = tf.Variable(tf.random_normal([784, 300], stddev=0.03), name='W1')\n",
        "b1 = tf.Variable(tf.random_normal([300]), name='b1')\n",
        "W2 = tf.Variable(tf.random_normal([300, 10], stddev=0.03), name='W2')\n",
        "b2 = tf.Variable(tf.random_normal([10]), name='b2')\n"
      ],
      "execution_count": 0,
      "outputs": []
    },
    {
      "cell_type": "code",
      "metadata": {
        "id": "8Y3Psu2uzSuu",
        "colab_type": "code",
        "colab": {}
      },
      "source": [
        "hidden_out = tf.add(tf.matmul(x, W1), b1)\n",
        "hidden_out = tf.nn.relu(hidden_out)\n",
        "y_ = tf.nn.softmax(tf.add(tf.matmul(hidden_out, W2), b2))\n",
        "y_clipped = tf.clip_by_value(y_, 1e-10, 0.9999999)\n",
        "cross_entropy = -tf.reduce_mean(tf.reduce_sum(y * tf.log(y_clipped)\n",
        "                         + (1 - y) * tf.log(1 - y_clipped), axis=1))\n"
      ],
      "execution_count": 0,
      "outputs": []
    },
    {
      "cell_type": "code",
      "metadata": {
        "id": "9Vlr7GLqz0rd",
        "colab_type": "code",
        "colab": {}
      },
      "source": [
        "optimiser = tf.train.GradientDescentOptimizer(learning_rate=learning_rate).minimize(cross_entropy)\n"
      ],
      "execution_count": 0,
      "outputs": []
    },
    {
      "cell_type": "code",
      "metadata": {
        "id": "Aa-DbBnxz8qx",
        "colab_type": "code",
        "colab": {}
      },
      "source": [
        "init_op = tf.global_variables_initializer()\n",
        "\n",
        "# define an accuracy assessment operation\n",
        "correct_prediction = tf.equal(tf.argmax(y, 1), tf.argmax(y_, 1))\n",
        "accuracy = tf.reduce_mean(tf.cast(correct_prediction, tf.float32))\n"
      ],
      "execution_count": 0,
      "outputs": []
    },
    {
      "cell_type": "code",
      "metadata": {
        "id": "AxnCmJ7zz_Dd",
        "colab_type": "code",
        "colab": {
          "base_uri": "https://localhost:8080/",
          "height": 374
        },
        "outputId": "9d72008c-65a5-4db2-b547-b434a8811804"
      },
      "source": [
        "with tf.Session() as sess:\n",
        "   # initialise the variables\n",
        "   sess.run(init_op)\n",
        "   total_batch = int(len(mnist.train.labels) / batch_size)\n",
        "   for epoch in range(epochs):\n",
        "        avg_cost = 0\n",
        "        for i in range(total_batch):\n",
        "            batch_x, batch_y = mnist.train.next_batch(batch_size=batch_size)\n",
        "            _, c = sess.run([optimiser, cross_entropy], \n",
        "                         feed_dict={x: batch_x, y: batch_y})\n",
        "            avg_cost += c / total_batch\n",
        "        print(\"Epoch:\", (epoch + 1), \"cost =\", \"{:.3f}\".format(avg_cost))\n",
        "   print(sess.run(accuracy, feed_dict={x: mnist.test.images, y: mnist.test.labels}))"
      ],
      "execution_count": 41,
      "outputs": [
        {
          "output_type": "stream",
          "text": [
            "Epoch: 1 cost = 0.798\n",
            "Epoch: 2 cost = 0.410\n",
            "Epoch: 3 cost = 0.306\n",
            "Epoch: 4 cost = 0.242\n",
            "Epoch: 5 cost = 0.201\n",
            "Epoch: 6 cost = 0.171\n",
            "Epoch: 7 cost = 0.149\n",
            "Epoch: 8 cost = 0.131\n",
            "Epoch: 9 cost = 0.118\n",
            "Epoch: 10 cost = 0.105\n",
            "Epoch: 11 cost = 0.095\n",
            "Epoch: 12 cost = 0.087\n",
            "Epoch: 13 cost = 0.078\n",
            "Epoch: 14 cost = 0.072\n",
            "Epoch: 15 cost = 0.065\n",
            "Epoch: 16 cost = 0.060\n",
            "Epoch: 17 cost = 0.055\n",
            "Epoch: 18 cost = 0.050\n",
            "Epoch: 19 cost = 0.046\n",
            "Epoch: 20 cost = 0.043\n",
            "0.9803\n"
          ],
          "name": "stdout"
        }
      ]
    },
    {
      "cell_type": "code",
      "metadata": {
        "id": "uvhxnrro0eTd",
        "colab_type": "code",
        "colab": {}
      },
      "source": [
        ""
      ],
      "execution_count": 0,
      "outputs": []
    }
  ]
}